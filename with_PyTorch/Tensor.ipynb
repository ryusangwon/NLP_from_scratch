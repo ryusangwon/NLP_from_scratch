{
  "nbformat": 4,
  "nbformat_minor": 0,
  "metadata": {
    "colab": {
      "provenance": []
    },
    "kernelspec": {
      "name": "python3",
      "display_name": "Python 3"
    },
    "language_info": {
      "name": "python"
    },
    "accelerator": "GPU",
    "gpuClass": "standard"
  },
  "cells": [
    {
      "cell_type": "code",
      "source": [
        "import torch\n",
        "import numpy as np"
      ],
      "metadata": {
        "id": "lKYOL0hzbJIK"
      },
      "execution_count": 2,
      "outputs": []
    },
    {
      "cell_type": "code",
      "execution_count": 3,
      "metadata": {
        "id": "FfJewVWfawlt"
      },
      "outputs": [],
      "source": [
        "def describe(x):\n",
        "  print(\"타입: {}\".format(x.type()))\n",
        "  print(\"크기: {}\".format(x.shape))\n",
        "  print(\"값: \\n{}\".format(x))"
      ]
    },
    {
      "cell_type": "code",
      "source": [
        "describe(torch.Tensor(2, 3))"
      ],
      "metadata": {
        "colab": {
          "base_uri": "https://localhost:8080/"
        },
        "id": "-ef4v2lQbIZs",
        "outputId": "099020ca-7c62-4f13-bd2b-d02a85dc07cd"
      },
      "execution_count": 4,
      "outputs": [
        {
          "output_type": "stream",
          "name": "stdout",
          "text": [
            "타입: torch.FloatTensor\n",
            "크기: torch.Size([2, 3])\n",
            "값: \n",
            "tensor([[3.2192e-34, 0.0000e+00, 3.7835e-44],\n",
            "        [0.0000e+00,        nan, 0.0000e+00]])\n"
          ]
        }
      ]
    },
    {
      "cell_type": "code",
      "source": [
        "describe(torch.rand(2, 3))\n",
        "describe(torch.randn(2, 3))"
      ],
      "metadata": {
        "colab": {
          "base_uri": "https://localhost:8080/"
        },
        "id": "WuvsAIUGbIC1",
        "outputId": "292cd983-5844-498f-ff09-0bbc6d9f292e"
      },
      "execution_count": 5,
      "outputs": [
        {
          "output_type": "stream",
          "name": "stdout",
          "text": [
            "타입: torch.FloatTensor\n",
            "크기: torch.Size([2, 3])\n",
            "값: \n",
            "tensor([[0.9443, 0.4993, 0.3456],\n",
            "        [0.9186, 0.8463, 0.5839]])\n",
            "타입: torch.FloatTensor\n",
            "크기: torch.Size([2, 3])\n",
            "값: \n",
            "tensor([[1.3694, 0.9904, 1.4707],\n",
            "        [1.0037, 1.4620, 0.5206]])\n"
          ]
        }
      ]
    },
    {
      "cell_type": "code",
      "source": [
        "describe(torch.zeros(2, 3))\n",
        "x = torch.ones(2, 3)\n",
        "describe(x)\n",
        "x.fill_(5) # _ (파이토치 인-플레이스 메서드)는 텐서 값을 바꾸는 연산을 한다.\n",
        "describe(x)"
      ],
      "metadata": {
        "colab": {
          "base_uri": "https://localhost:8080/"
        },
        "id": "LSm1x1rMbGo3",
        "outputId": "562388c6-387c-4b37-cf5c-3b39a4c8f3ab"
      },
      "execution_count": 6,
      "outputs": [
        {
          "output_type": "stream",
          "name": "stdout",
          "text": [
            "타입: torch.FloatTensor\n",
            "크기: torch.Size([2, 3])\n",
            "값: \n",
            "tensor([[0., 0., 0.],\n",
            "        [0., 0., 0.]])\n",
            "타입: torch.FloatTensor\n",
            "크기: torch.Size([2, 3])\n",
            "값: \n",
            "tensor([[1., 1., 1.],\n",
            "        [1., 1., 1.]])\n",
            "타입: torch.FloatTensor\n",
            "크기: torch.Size([2, 3])\n",
            "값: \n",
            "tensor([[5., 5., 5.],\n",
            "        [5., 5., 5.]])\n"
          ]
        }
      ]
    },
    {
      "cell_type": "code",
      "source": [
        "x = torch.Tensor([[1, 2, 3], [4, 5, 6]])\n",
        "describe(x)"
      ],
      "metadata": {
        "colab": {
          "base_uri": "https://localhost:8080/"
        },
        "id": "GYEzFJtGcGk7",
        "outputId": "75744bde-22da-49d1-f6e4-9d7d5562c19c"
      },
      "execution_count": 7,
      "outputs": [
        {
          "output_type": "stream",
          "name": "stdout",
          "text": [
            "타입: torch.FloatTensor\n",
            "크기: torch.Size([2, 3])\n",
            "값: \n",
            "tensor([[1., 2., 3.],\n",
            "        [4., 5., 6.]])\n"
          ]
        }
      ]
    },
    {
      "cell_type": "code",
      "source": [
        "npy = np.random.rand(2, 3)\n",
        "describe(torch.from_numpy(npy))"
      ],
      "metadata": {
        "colab": {
          "base_uri": "https://localhost:8080/"
        },
        "id": "k_Nor7PYcMow",
        "outputId": "132081fc-60e2-48f8-d379-7ffae1688ac4"
      },
      "execution_count": 8,
      "outputs": [
        {
          "output_type": "stream",
          "name": "stdout",
          "text": [
            "타입: torch.DoubleTensor\n",
            "크기: torch.Size([2, 3])\n",
            "값: \n",
            "tensor([[0.8763, 0.4762, 0.6181],\n",
            "        [0.3739, 0.2726, 0.3740]], dtype=torch.float64)\n"
          ]
        }
      ]
    },
    {
      "cell_type": "code",
      "source": [
        "x = torch.FloatTensor([[1, 2, 3],[4, 5, 6]])\n",
        "describe(x)"
      ],
      "metadata": {
        "colab": {
          "base_uri": "https://localhost:8080/"
        },
        "id": "K6tyah41dnBk",
        "outputId": "04c256aa-be20-4f05-b0ce-3e79aaf98d14"
      },
      "execution_count": 9,
      "outputs": [
        {
          "output_type": "stream",
          "name": "stdout",
          "text": [
            "타입: torch.FloatTensor\n",
            "크기: torch.Size([2, 3])\n",
            "값: \n",
            "tensor([[1., 2., 3.],\n",
            "        [4., 5., 6.]])\n"
          ]
        }
      ]
    },
    {
      "cell_type": "code",
      "source": [
        "x = x.long()\n",
        "describe(x)"
      ],
      "metadata": {
        "colab": {
          "base_uri": "https://localhost:8080/"
        },
        "id": "UUGZPxmmdwSt",
        "outputId": "90f8081f-e7b0-46ea-e672-a0f979b45a00"
      },
      "execution_count": 10,
      "outputs": [
        {
          "output_type": "stream",
          "name": "stdout",
          "text": [
            "타입: torch.LongTensor\n",
            "크기: torch.Size([2, 3])\n",
            "값: \n",
            "tensor([[1, 2, 3],\n",
            "        [4, 5, 6]])\n"
          ]
        }
      ]
    },
    {
      "cell_type": "code",
      "source": [
        "x = torch.tensor([[1, 2, 3], [4, 5, 6]], dtype=torch.int64)\n",
        "describe(x)"
      ],
      "metadata": {
        "colab": {
          "base_uri": "https://localhost:8080/"
        },
        "id": "QCiI8hPgd03n",
        "outputId": "41d7327c-c90b-406b-c98b-7e82bc02c0ff"
      },
      "execution_count": 11,
      "outputs": [
        {
          "output_type": "stream",
          "name": "stdout",
          "text": [
            "타입: torch.LongTensor\n",
            "크기: torch.Size([2, 3])\n",
            "값: \n",
            "tensor([[1, 2, 3],\n",
            "        [4, 5, 6]])\n"
          ]
        }
      ]
    },
    {
      "cell_type": "code",
      "source": [
        "x = x.float()\n",
        "describe(x)"
      ],
      "metadata": {
        "colab": {
          "base_uri": "https://localhost:8080/"
        },
        "id": "SAs9SkN5d-H-",
        "outputId": "0860df94-0d03-4ad9-c6cc-26cb7bddf5b5"
      },
      "execution_count": 12,
      "outputs": [
        {
          "output_type": "stream",
          "name": "stdout",
          "text": [
            "타입: torch.FloatTensor\n",
            "크기: torch.Size([2, 3])\n",
            "값: \n",
            "tensor([[1., 2., 3.],\n",
            "        [4., 5., 6.]])\n"
          ]
        }
      ]
    },
    {
      "cell_type": "code",
      "source": [
        "x = torch.randn(2, 3)\n",
        "describe(x)"
      ],
      "metadata": {
        "id": "IUx5iMzReIhl",
        "colab": {
          "base_uri": "https://localhost:8080/"
        },
        "outputId": "68c4c1c1-ceac-4a82-ebf5-3364fc6b060a"
      },
      "execution_count": 13,
      "outputs": [
        {
          "output_type": "stream",
          "name": "stdout",
          "text": [
            "타입: torch.FloatTensor\n",
            "크기: torch.Size([2, 3])\n",
            "값: \n",
            "tensor([[ 0.3437, -0.5905, -0.8989],\n",
            "        [-0.5308,  0.4314, -0.1171]])\n"
          ]
        }
      ]
    },
    {
      "cell_type": "code",
      "source": [
        "describe(torch.add(x, x))"
      ],
      "metadata": {
        "colab": {
          "base_uri": "https://localhost:8080/"
        },
        "id": "l75v4f8PAZBN",
        "outputId": "ed374b60-0065-472b-a718-fc15ae5fe36a"
      },
      "execution_count": 14,
      "outputs": [
        {
          "output_type": "stream",
          "name": "stdout",
          "text": [
            "타입: torch.FloatTensor\n",
            "크기: torch.Size([2, 3])\n",
            "값: \n",
            "tensor([[ 0.6874, -1.1811, -1.7979],\n",
            "        [-1.0615,  0.8629, -0.2341]])\n"
          ]
        }
      ]
    },
    {
      "cell_type": "code",
      "source": [
        "describe(x+x)"
      ],
      "metadata": {
        "colab": {
          "base_uri": "https://localhost:8080/"
        },
        "id": "Ew-xcWQjAgCV",
        "outputId": "bfadef37-4b1d-4ad1-b946-3837d620d0da"
      },
      "execution_count": 15,
      "outputs": [
        {
          "output_type": "stream",
          "name": "stdout",
          "text": [
            "타입: torch.FloatTensor\n",
            "크기: torch.Size([2, 3])\n",
            "값: \n",
            "tensor([[ 0.6874, -1.1811, -1.7979],\n",
            "        [-1.0615,  0.8629, -0.2341]])\n"
          ]
        }
      ]
    },
    {
      "cell_type": "code",
      "source": [
        "x = torch.arange(6)\n",
        "describe(x)"
      ],
      "metadata": {
        "colab": {
          "base_uri": "https://localhost:8080/"
        },
        "id": "NeqEjQjvAmDN",
        "outputId": "27b0b6bf-5603-45d1-b690-be783d5a3d4e"
      },
      "execution_count": 16,
      "outputs": [
        {
          "output_type": "stream",
          "name": "stdout",
          "text": [
            "타입: torch.LongTensor\n",
            "크기: torch.Size([6])\n",
            "값: \n",
            "tensor([0, 1, 2, 3, 4, 5])\n"
          ]
        }
      ]
    },
    {
      "cell_type": "code",
      "source": [
        "x = x.view(2, 3)\n",
        "describe(x)"
      ],
      "metadata": {
        "colab": {
          "base_uri": "https://localhost:8080/"
        },
        "id": "5l7L961WAunm",
        "outputId": "711becfa-c588-44c2-c873-21eee01fe4f5"
      },
      "execution_count": 17,
      "outputs": [
        {
          "output_type": "stream",
          "name": "stdout",
          "text": [
            "타입: torch.LongTensor\n",
            "크기: torch.Size([2, 3])\n",
            "값: \n",
            "tensor([[0, 1, 2],\n",
            "        [3, 4, 5]])\n"
          ]
        }
      ]
    },
    {
      "cell_type": "code",
      "source": [
        "describe(torch.sum(x, dim=0))"
      ],
      "metadata": {
        "colab": {
          "base_uri": "https://localhost:8080/"
        },
        "id": "UEoL351RAzad",
        "outputId": "15c54144-85a0-464d-f310-a19e2613fbfa"
      },
      "execution_count": 18,
      "outputs": [
        {
          "output_type": "stream",
          "name": "stdout",
          "text": [
            "타입: torch.LongTensor\n",
            "크기: torch.Size([3])\n",
            "값: \n",
            "tensor([3, 5, 7])\n"
          ]
        }
      ]
    },
    {
      "cell_type": "code",
      "source": [
        "describe(torch.sum(x, dim=1))"
      ],
      "metadata": {
        "colab": {
          "base_uri": "https://localhost:8080/"
        },
        "id": "tpcpUtrVBMoX",
        "outputId": "16094839-cad6-4baa-f7c2-761387542915"
      },
      "execution_count": 19,
      "outputs": [
        {
          "output_type": "stream",
          "name": "stdout",
          "text": [
            "타입: torch.LongTensor\n",
            "크기: torch.Size([2])\n",
            "값: \n",
            "tensor([ 3, 12])\n"
          ]
        }
      ]
    },
    {
      "cell_type": "code",
      "source": [
        "describe(torch.transpose(x, 0, 1))"
      ],
      "metadata": {
        "colab": {
          "base_uri": "https://localhost:8080/"
        },
        "id": "K99ag94UBQb1",
        "outputId": "be2faedb-39f4-432c-df17-8e6ea34e9209"
      },
      "execution_count": 20,
      "outputs": [
        {
          "output_type": "stream",
          "name": "stdout",
          "text": [
            "타입: torch.LongTensor\n",
            "크기: torch.Size([3, 2])\n",
            "값: \n",
            "tensor([[0, 3],\n",
            "        [1, 4],\n",
            "        [2, 5]])\n"
          ]
        }
      ]
    },
    {
      "cell_type": "code",
      "source": [
        "x = x.view(3, 2)\n",
        "describe(x)"
      ],
      "metadata": {
        "colab": {
          "base_uri": "https://localhost:8080/"
        },
        "id": "irJqKBa9BUNQ",
        "outputId": "304544e5-400b-43d9-de06-4d98db478c42"
      },
      "execution_count": 21,
      "outputs": [
        {
          "output_type": "stream",
          "name": "stdout",
          "text": [
            "타입: torch.LongTensor\n",
            "크기: torch.Size([3, 2])\n",
            "값: \n",
            "tensor([[0, 1],\n",
            "        [2, 3],\n",
            "        [4, 5]])\n"
          ]
        }
      ]
    },
    {
      "cell_type": "code",
      "source": [
        "describe(torch.sum(x, dim=0))"
      ],
      "metadata": {
        "colab": {
          "base_uri": "https://localhost:8080/"
        },
        "id": "_O9GjMAJBmnR",
        "outputId": "44012aad-1a77-4468-9c1c-64030cd36368"
      },
      "execution_count": 22,
      "outputs": [
        {
          "output_type": "stream",
          "name": "stdout",
          "text": [
            "타입: torch.LongTensor\n",
            "크기: torch.Size([2])\n",
            "값: \n",
            "tensor([6, 9])\n"
          ]
        }
      ]
    },
    {
      "cell_type": "code",
      "source": [
        "describe(torch.sum(x, dim=1))"
      ],
      "metadata": {
        "colab": {
          "base_uri": "https://localhost:8080/"
        },
        "id": "Qzh9veETBsVE",
        "outputId": "93cc8fe4-fc1e-4cb9-fccd-afa806ee38f8"
      },
      "execution_count": 23,
      "outputs": [
        {
          "output_type": "stream",
          "name": "stdout",
          "text": [
            "타입: torch.LongTensor\n",
            "크기: torch.Size([3])\n",
            "값: \n",
            "tensor([1, 5, 9])\n"
          ]
        }
      ]
    },
    {
      "cell_type": "code",
      "source": [
        "x = torch.arange(6).view(2, 3)\n",
        "describe(x)"
      ],
      "metadata": {
        "colab": {
          "base_uri": "https://localhost:8080/"
        },
        "id": "2t8i4DsLCKj4",
        "outputId": "1635df39-af74-4810-a175-47a06873d677"
      },
      "execution_count": 24,
      "outputs": [
        {
          "output_type": "stream",
          "name": "stdout",
          "text": [
            "타입: torch.LongTensor\n",
            "크기: torch.Size([2, 3])\n",
            "값: \n",
            "tensor([[0, 1, 2],\n",
            "        [3, 4, 5]])\n"
          ]
        }
      ]
    },
    {
      "cell_type": "code",
      "source": [
        "describe(x[:1, :2])"
      ],
      "metadata": {
        "colab": {
          "base_uri": "https://localhost:8080/"
        },
        "id": "NNkWq3ovCOfW",
        "outputId": "ae581d57-611a-4921-ccc9-1d8a7cfd6da1"
      },
      "execution_count": 25,
      "outputs": [
        {
          "output_type": "stream",
          "name": "stdout",
          "text": [
            "타입: torch.LongTensor\n",
            "크기: torch.Size([1, 2])\n",
            "값: \n",
            "tensor([[0, 1]])\n"
          ]
        }
      ]
    },
    {
      "cell_type": "code",
      "source": [
        "describe(x[0, 1])"
      ],
      "metadata": {
        "colab": {
          "base_uri": "https://localhost:8080/"
        },
        "id": "LhpOi2_HCT_l",
        "outputId": "d6f31cde-8836-4297-aa39-d07ff6934380"
      },
      "execution_count": 26,
      "outputs": [
        {
          "output_type": "stream",
          "name": "stdout",
          "text": [
            "타입: torch.LongTensor\n",
            "크기: torch.Size([])\n",
            "값: \n",
            "1\n"
          ]
        }
      ]
    },
    {
      "cell_type": "code",
      "source": [
        "indices = torch.LongTensor([0, 2])\n",
        "describe(torch.index_select(x, dim=1, index=indices))"
      ],
      "metadata": {
        "colab": {
          "base_uri": "https://localhost:8080/"
        },
        "id": "dAFkKujgCfw5",
        "outputId": "a007c28b-58a7-40ce-f6d7-b85cb6fd2d44"
      },
      "execution_count": 27,
      "outputs": [
        {
          "output_type": "stream",
          "name": "stdout",
          "text": [
            "타입: torch.LongTensor\n",
            "크기: torch.Size([2, 2])\n",
            "값: \n",
            "tensor([[0, 2],\n",
            "        [3, 5]])\n"
          ]
        }
      ]
    },
    {
      "cell_type": "code",
      "source": [
        "indices = torch.LongTensor([0, 0])\n",
        "describe(torch.index_select(x, dim=0, index=indices))"
      ],
      "metadata": {
        "colab": {
          "base_uri": "https://localhost:8080/"
        },
        "id": "d2OTtoo8CuP5",
        "outputId": "b3f3ca8c-9e7d-4b25-cc4c-49f9e3a4cc85"
      },
      "execution_count": 28,
      "outputs": [
        {
          "output_type": "stream",
          "name": "stdout",
          "text": [
            "타입: torch.LongTensor\n",
            "크기: torch.Size([2, 3])\n",
            "값: \n",
            "tensor([[0, 1, 2],\n",
            "        [0, 1, 2]])\n"
          ]
        }
      ]
    },
    {
      "cell_type": "code",
      "source": [
        "row_indices = torch.arange(2).long()\n",
        "col_indices = torch.LongTensor([0, 1])\n",
        "describe(x[row_indices, col_indices])"
      ],
      "metadata": {
        "colab": {
          "base_uri": "https://localhost:8080/"
        },
        "id": "S-22QthsGRMP",
        "outputId": "3671f7b5-23fa-44f5-8a51-79b58c130dbb"
      },
      "execution_count": 29,
      "outputs": [
        {
          "output_type": "stream",
          "name": "stdout",
          "text": [
            "타입: torch.LongTensor\n",
            "크기: torch.Size([2])\n",
            "값: \n",
            "tensor([0, 4])\n"
          ]
        }
      ]
    },
    {
      "cell_type": "code",
      "source": [
        "x = torch.arange(6).view(2, 3)\n",
        "describe(x)"
      ],
      "metadata": {
        "colab": {
          "base_uri": "https://localhost:8080/"
        },
        "id": "4NNoPS65H6mG",
        "outputId": "bfd776f5-d1c5-4c89-d5f6-b131caf214ab"
      },
      "execution_count": 30,
      "outputs": [
        {
          "output_type": "stream",
          "name": "stdout",
          "text": [
            "타입: torch.LongTensor\n",
            "크기: torch.Size([2, 3])\n",
            "값: \n",
            "tensor([[0, 1, 2],\n",
            "        [3, 4, 5]])\n"
          ]
        }
      ]
    },
    {
      "cell_type": "code",
      "source": [
        "describe(torch.cat([x, x], dim=0))"
      ],
      "metadata": {
        "colab": {
          "base_uri": "https://localhost:8080/"
        },
        "id": "NU25CZytIBO-",
        "outputId": "2f85fdd8-ff62-40ad-d205-840274991168"
      },
      "execution_count": 31,
      "outputs": [
        {
          "output_type": "stream",
          "name": "stdout",
          "text": [
            "타입: torch.LongTensor\n",
            "크기: torch.Size([4, 3])\n",
            "값: \n",
            "tensor([[0, 1, 2],\n",
            "        [3, 4, 5],\n",
            "        [0, 1, 2],\n",
            "        [3, 4, 5]])\n"
          ]
        }
      ]
    },
    {
      "cell_type": "code",
      "source": [
        "describe(torch.cat([x, x], dim=1))"
      ],
      "metadata": {
        "colab": {
          "base_uri": "https://localhost:8080/"
        },
        "id": "LqJ3sVJoILlc",
        "outputId": "d3c59e8e-1b0c-44c5-b55d-4c319981970c"
      },
      "execution_count": 32,
      "outputs": [
        {
          "output_type": "stream",
          "name": "stdout",
          "text": [
            "타입: torch.LongTensor\n",
            "크기: torch.Size([2, 6])\n",
            "값: \n",
            "tensor([[0, 1, 2, 0, 1, 2],\n",
            "        [3, 4, 5, 3, 4, 5]])\n"
          ]
        }
      ]
    },
    {
      "cell_type": "code",
      "source": [
        "describe(torch.stack([x, x]))"
      ],
      "metadata": {
        "id": "3U-849ifKKWr",
        "outputId": "5274a397-17f2-49c6-a320-b0675ce89c9d",
        "colab": {
          "base_uri": "https://localhost:8080/"
        }
      },
      "execution_count": 33,
      "outputs": [
        {
          "output_type": "stream",
          "name": "stdout",
          "text": [
            "타입: torch.LongTensor\n",
            "크기: torch.Size([2, 2, 3])\n",
            "값: \n",
            "tensor([[[0, 1, 2],\n",
            "         [3, 4, 5]],\n",
            "\n",
            "        [[0, 1, 2],\n",
            "         [3, 4, 5]]])\n"
          ]
        }
      ]
    },
    {
      "cell_type": "code",
      "source": [
        "x1 = torch.arange(6).view(2, 3)\n",
        "describe(x1)"
      ],
      "metadata": {
        "id": "sAkkPyI4KNUx",
        "colab": {
          "base_uri": "https://localhost:8080/"
        },
        "outputId": "de399f43-7dd1-4d52-cfe6-07345ad7a7b6"
      },
      "execution_count": 34,
      "outputs": [
        {
          "output_type": "stream",
          "name": "stdout",
          "text": [
            "타입: torch.LongTensor\n",
            "크기: torch.Size([2, 3])\n",
            "값: \n",
            "tensor([[0, 1, 2],\n",
            "        [3, 4, 5]])\n"
          ]
        }
      ]
    },
    {
      "cell_type": "code",
      "source": [
        "x2 = torch.ones(3, 2).long()\n",
        "x2[:, 1] += 1\n",
        "describe(x2)"
      ],
      "metadata": {
        "colab": {
          "base_uri": "https://localhost:8080/"
        },
        "id": "mMo7IPCtW2bG",
        "outputId": "ec0dd6f5-3db9-496e-9fcf-404659130cba"
      },
      "execution_count": 35,
      "outputs": [
        {
          "output_type": "stream",
          "name": "stdout",
          "text": [
            "타입: torch.LongTensor\n",
            "크기: torch.Size([3, 2])\n",
            "값: \n",
            "tensor([[1, 2],\n",
            "        [1, 2],\n",
            "        [1, 2]])\n"
          ]
        }
      ]
    },
    {
      "cell_type": "code",
      "source": [
        "describe(torch.mm(x1, x2))"
      ],
      "metadata": {
        "colab": {
          "base_uri": "https://localhost:8080/"
        },
        "id": "HPJ5qG5lXBwK",
        "outputId": "9826da89-e9e5-4e39-b552-1e0d984c2198"
      },
      "execution_count": 36,
      "outputs": [
        {
          "output_type": "stream",
          "name": "stdout",
          "text": [
            "타입: torch.LongTensor\n",
            "크기: torch.Size([2, 2])\n",
            "값: \n",
            "tensor([[ 3,  6],\n",
            "        [12, 24]])\n"
          ]
        }
      ]
    },
    {
      "cell_type": "code",
      "source": [
        "x = torch.ones(2, 2, requires_grad=True)\n",
        "describe(x)\n",
        "print(x.grad is None)"
      ],
      "metadata": {
        "colab": {
          "base_uri": "https://localhost:8080/"
        },
        "id": "JBfIeIjmXP23",
        "outputId": "ba32c238-42c2-4fd9-a633-89eb3de5ccd7"
      },
      "execution_count": 37,
      "outputs": [
        {
          "output_type": "stream",
          "name": "stdout",
          "text": [
            "타입: torch.FloatTensor\n",
            "크기: torch.Size([2, 2])\n",
            "값: \n",
            "tensor([[1., 1.],\n",
            "        [1., 1.]], requires_grad=True)\n",
            "True\n"
          ]
        }
      ]
    },
    {
      "cell_type": "code",
      "source": [
        "y = (x + 2) * (x + 5) + 3\n",
        "describe(y)\n",
        "print(x.grad is None)"
      ],
      "metadata": {
        "colab": {
          "base_uri": "https://localhost:8080/"
        },
        "id": "1J3o7UPNY-dM",
        "outputId": "0a4d5749-9c87-4b27-ca54-ededdda8f339"
      },
      "execution_count": 38,
      "outputs": [
        {
          "output_type": "stream",
          "name": "stdout",
          "text": [
            "타입: torch.FloatTensor\n",
            "크기: torch.Size([2, 2])\n",
            "값: \n",
            "tensor([[21., 21.],\n",
            "        [21., 21.]], grad_fn=<AddBackward0>)\n",
            "True\n"
          ]
        }
      ]
    },
    {
      "cell_type": "code",
      "source": [
        "z = y.mean()\n",
        "describe(z)\n",
        "z.backward()\n",
        "print(x.grad is None)"
      ],
      "metadata": {
        "colab": {
          "base_uri": "https://localhost:8080/"
        },
        "id": "Vpg4_tGjZDse",
        "outputId": "3259b455-9d8c-4cd0-d618-5bf7e78e717c"
      },
      "execution_count": 39,
      "outputs": [
        {
          "output_type": "stream",
          "name": "stdout",
          "text": [
            "타입: torch.FloatTensor\n",
            "크기: torch.Size([])\n",
            "값: \n",
            "21.0\n",
            "False\n"
          ]
        }
      ]
    },
    {
      "cell_type": "code",
      "source": [
        "print(torch.cuda.is_available)"
      ],
      "metadata": {
        "colab": {
          "base_uri": "https://localhost:8080/"
        },
        "id": "_78hCXFOZPV8",
        "outputId": "ad58b4bb-ded8-4acf-8ee6-fbefeca570de"
      },
      "execution_count": 40,
      "outputs": [
        {
          "output_type": "stream",
          "name": "stdout",
          "text": [
            "<function is_available at 0x7f2dfc1eab80>\n"
          ]
        }
      ]
    },
    {
      "cell_type": "code",
      "source": [
        "device = torch.device(\"cuda\" if torch.cuda.is_available() else \"cpu\")\n",
        "print(device)"
      ],
      "metadata": {
        "colab": {
          "base_uri": "https://localhost:8080/"
        },
        "id": "7hbn718oaKIo",
        "outputId": "0b5e98ae-0286-4839-e5a9-0fc7262b7dc5"
      },
      "execution_count": 42,
      "outputs": [
        {
          "output_type": "stream",
          "name": "stdout",
          "text": [
            "cuda\n"
          ]
        }
      ]
    },
    {
      "cell_type": "code",
      "source": [
        "x = torch.rand(3, 3).to(device)\n",
        "describe(x)"
      ],
      "metadata": {
        "colab": {
          "base_uri": "https://localhost:8080/"
        },
        "id": "VPxPa4MyaQHd",
        "outputId": "8c5c7ab5-112f-4fd2-8c4b-288de6ce3571"
      },
      "execution_count": 43,
      "outputs": [
        {
          "output_type": "stream",
          "name": "stdout",
          "text": [
            "타입: torch.cuda.FloatTensor\n",
            "크기: torch.Size([3, 3])\n",
            "값: \n",
            "tensor([[0.6491, 0.1348, 0.8707],\n",
            "        [0.8999, 0.0599, 0.9738],\n",
            "        [0.3451, 0.4622, 0.1323]], device='cuda:0')\n"
          ]
        }
      ]
    },
    {
      "cell_type": "code",
      "source": [
        "y = torch.rand(3, 3)\n",
        "cpu_device = torch.device(\"cpu\")\n",
        "y = y.to(cpu_device)\n",
        "x = x.to(cpu_device)\n",
        "x+y"
      ],
      "metadata": {
        "colab": {
          "base_uri": "https://localhost:8080/"
        },
        "id": "OhrxIo0aadcf",
        "outputId": "90b2a41e-21d0-4e59-fded-dc06e82d6c75"
      },
      "execution_count": 45,
      "outputs": [
        {
          "output_type": "execute_result",
          "data": {
            "text/plain": [
              "tensor([[1.4953, 0.6762, 1.6850],\n",
              "        [1.5432, 0.7144, 1.6293],\n",
              "        [1.0513, 1.3890, 0.1382]])"
            ]
          },
          "metadata": {},
          "execution_count": 45
        }
      ]
    },
    {
      "cell_type": "code",
      "source": [
        "#CUDA_VISIBLE_DEVICE=0,1,2,3 python main.py"
      ],
      "metadata": {
        "id": "iRYxAusHai00"
      },
      "execution_count": 46,
      "outputs": []
    }
  ]
}